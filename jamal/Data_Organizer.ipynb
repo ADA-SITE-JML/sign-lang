{
  "cells": [
    {
      "cell_type": "markdown",
      "metadata": {
        "id": "view-in-github",
        "colab_type": "text"
      },
      "source": [
        "<a href=\"https://colab.research.google.com/github/ADA-SITE-JML/sign-lang/blob/main/jamal/Data_Organizer.ipynb\" target=\"_parent\"><img src=\"https://colab.research.google.com/assets/colab-badge.svg\" alt=\"Open In Colab\"/></a>"
      ]
    },
    {
      "cell_type": "code",
      "execution_count": 1,
      "metadata": {
        "id": "AxryeFOdYfH2"
      },
      "outputs": [],
      "source": [
        "import os\n",
        "import pandas as pd \n",
        "import cv2\n",
        "import torch"
      ]
    },
    {
      "cell_type": "code",
      "execution_count": 2,
      "metadata": {
        "id": "tux5wxb9ZqY3"
      },
      "outputs": [],
      "source": [
        "import sys\n",
        "import subprocess\n",
        "\n",
        "def pip_install(package):\n",
        "  subprocess.check_call([sys.executable, '-m', 'pip', 'install',package])"
      ]
    },
    {
      "cell_type": "code",
      "execution_count": 3,
      "metadata": {
        "id": "-ZaVjZSHZnxC"
      },
      "outputs": [],
      "source": [
        "pip_install('mediapipe')\n",
        "\n",
        "pip_install('pytorchvideo')\n",
        "\n",
        "# https://github.com/jbohnslav/opencv_transforms\n",
        "#pip_install('opencv_transforms')"
      ]
    },
    {
      "cell_type": "code",
      "execution_count": 4,
      "metadata": {
        "id": "mo8iytK8VPM9",
        "colab": {
          "base_uri": "https://localhost:8080/"
        },
        "outputId": "145b65aa-dec8-44f9-efbb-48a5c0cd0a2d"
      },
      "outputs": [
        {
          "output_type": "stream",
          "name": "stdout",
          "text": [
            "Mounted at /content/drive\n"
          ]
        }
      ],
      "source": [
        "drive_folder = '/content/drive/MyDrive/SLR/Data/'\n",
        "video_folder = drive_folder+'/Video'\n",
        "train_csv_path = drive_folder+'sentences_all.csv'\n",
        "camera_source = 'Cam2' # Cam1 - side-top, Cam2 - front\n",
        "output_folder = drive_folder + 'jamal/Video_features'\n",
        "\n",
        "from google.colab import drive\n",
        "drive.mount('/content/drive')"
      ]
    },
    {
      "cell_type": "code",
      "execution_count": 5,
      "metadata": {
        "id": "X_uyWHdVaq-3",
        "colab": {
          "base_uri": "https://localhost:8080/"
        },
        "outputId": "cbb56e8b-35f7-4bd5-d9aa-c98d32336e5a"
      },
      "outputs": [
        {
          "output_type": "stream",
          "name": "stdout",
          "text": [
            "Device: cuda:0\n"
          ]
        }
      ],
      "source": [
        "max_frames = 64\n",
        "\n",
        "device = 'cuda:0' if torch.cuda.is_available() else 'cpu'\n",
        "print('Device:',device)"
      ]
    },
    {
      "cell_type": "code",
      "execution_count": 6,
      "metadata": {
        "id": "jym6x3q6ZQHY",
        "colab": {
          "base_uri": "https://localhost:8080/"
        },
        "outputId": "30c20d72-a7a1-4bba-cdc2-511e18604f45"
      },
      "outputs": [
        {
          "output_type": "stream",
          "name": "stderr",
          "text": [
            "/usr/local/lib/python3.10/dist-packages/torchvision/transforms/_functional_video.py:6: UserWarning: The 'torchvision.transforms._functional_video' module is deprecated since 0.12 and will be removed in the future. Please use the 'torchvision.transforms.functional' module instead.\n",
            "  warnings.warn(\n",
            "/usr/local/lib/python3.10/dist-packages/torchvision/transforms/_transforms_video.py:22: UserWarning: The 'torchvision.transforms._transforms_video' module is deprecated since 0.12 and will be removed in the future. Please use the 'torchvision.transforms' module instead.\n",
            "  warnings.warn(\n"
          ]
        }
      ],
      "source": [
        "import mediapipe as mp\n",
        "import torchvision\n",
        "from torchvision import transforms\n",
        "\n",
        "from torchvision.transforms._transforms_video import (\n",
        "    CenterCropVideo,\n",
        "    NormalizeVideo\n",
        ")\n",
        "\n",
        "# keeps only informative frames\n",
        "def keep_frames_with_hands(video_data, crop_size: int = None,\n",
        "                           mp_min_detection_confidence: float = 0.7, mp_min_tracking_confidence: float = 0.8): # initially 0.5, 0.2 / 0.5 0.7\n",
        "    \n",
        "  mpHands = mp.solutions.hands\n",
        "  hands = mpHands.Hands(static_image_mode=True, max_num_hands=2,\n",
        "                        min_detection_confidence=mp_min_detection_confidence, min_tracking_confidence=mp_min_tracking_confidence)\n",
        "  \n",
        "  video_arr = torch.zeros((0, 3, 960, 1280)).to(device)\n",
        "  if crop_size:\n",
        "    video_arr = torch.zeros((0, 3, crop_size, crop_size)).to(device)\n",
        "    transform = Compose([\n",
        "      CenterCrop(crop_size),\n",
        "      ])\n",
        "\n",
        "  for frame in video_data:\n",
        "    hand_results = hands.process(frame.numpy())\n",
        "\n",
        "    if hand_results.multi_hand_landmarks != None:\n",
        "      if crop_size:\n",
        "        frame_ext = torch.unsqueeze(transform(frame.permute(2, 0, 1)), dim=0).to(device)\n",
        "      else:\n",
        "        frame_ext = torch.unsqueeze(frame.permute(2, 0, 1), dim=0).to(device)\n",
        "\n",
        "      video_arr = torch.cat((video_arr, frame_ext/255.0),0)\n",
        "\n",
        "  return video_arr"
      ]
    },
    {
      "cell_type": "code",
      "execution_count": 7,
      "metadata": {
        "id": "m9L5407saAS_"
      },
      "outputs": [],
      "source": [
        "from torchvision.transforms import (\n",
        "    Compose,\n",
        "    CenterCrop,\n",
        "    Resize\n",
        ")\n",
        "\n",
        "def apply_video_transforms(resize_size: int = 224):\n",
        "    video_transform = Compose([\n",
        "        Resize(size=(resize_size, resize_size)),\n",
        "        # UniformTemporalSubsample(25),\n",
        "        #ColorJitter(brightness=0.5, contrast=0.5),\n",
        "        # RandomShortSideScale(min_size=256, max_size=512),\n",
        "        #RandomHorizontalFlip(p=0.5),\n",
        "    ])\n",
        "    \n",
        "    return video_transform"
      ]
    },
    {
      "cell_type": "code",
      "execution_count": 8,
      "metadata": {
        "id": "9q71bwuHaGqv"
      },
      "outputs": [],
      "source": [
        "def get_video_frames(video_path):\n",
        "  reader, _, _ = torchvision.io.read_video(video_path, output_format=\"THWC\")\n",
        "  hands_only = keep_frames_with_hands(reader, crop_size=600).to(device) # initially: 960\n",
        "  \n",
        "  apply_trans = apply_video_transforms()\n",
        "  hands_only = apply_trans(hands_only)\n",
        "\n",
        "  n,l,w,h = hands_only.shape\n",
        "\n",
        "  # When frames are more than we need but not that much (just trim it from the start and end)\n",
        "  if (n > max_frames) and (n < 2*max_frames):\n",
        "    left = (n-max_frames)//2\n",
        "    hands_only_new = hands_only[left:(n-left-1),:,:,:]\n",
        "  # If we have much more frames than we need\n",
        "  elif (n > max_frames):\n",
        "    # Cut 5 frames from start/end and then skip every n-th\n",
        "    slice_step = ((n-10)//max_frames+1)\n",
        "    hands_only_new = hands_only[5:(n-5):slice_step,:,:,:]\n",
        "  else:\n",
        "    hands_only_new = hands_only\n",
        "\n",
        "  n = hands_only_new.shape[0]\n",
        "\n",
        "  # If we have less frames than we need\n",
        "  if (n < max_frames):\n",
        "    # Previous approach : fill with the zero matrix\n",
        "    # compliment_arr = torch.zeros(config.max_frames-n,l,w,h).to(config.device)\n",
        "    # New approach: fill with the last frames (usually 1)\n",
        "    compliment_arr = hands_only[-(max_frames-n):,:,:,:]\n",
        "    hands_only_new = torch.cat((hands_only_new,compliment_arr),0)\n",
        "\n",
        "    return hands_only_new\n",
        "\n",
        "def tensor2list(mdim_tensor):\n",
        "  tensor_stack = []\n",
        "  for i in range(mdim_tensor.shape[0]):\n",
        "    tensor_stack.append(mdim_tensor[i])\n",
        "\n",
        "  return tensor_stack"
      ]
    },
    {
      "cell_type": "code",
      "metadata": {
        "id": "Gn1MrAwGGkyY",
        "collapsed": true,
        "colab": {
          "base_uri": "https://localhost:8080/"
        },
        "outputId": "e9ceb039-6441-4954-eb89-25a88dd0c396"
      },
      "source": [
        "feature_type = 'i3d' # or 'pretrained'\n",
        "\n",
        "if feature_type == 'i3d':\n",
        "  # For I3D features\n",
        "  !git clone https://github.com/v-iashin/video_features.git\n",
        "  !pip install omegaconf==2.0.6\n",
        "\n",
        "  %cd video_features\n",
        "\n",
        "  from models.i3d.extract_i3d import ExtractI3D\n",
        "  from models.raft.raft_src.raft import RAFT, InputPadder\n",
        "  from utils.utils import build_cfg_path\n",
        "  from omegaconf import OmegaConf\n",
        "\n",
        "  # Load and patch the config\n",
        "  args = OmegaConf.load(build_cfg_path(feature_type))\n",
        "  # args.show_pred = True\n",
        "  # args.stack_size = 24\n",
        "  # args.step_size = 24\n",
        "  # args.extraction_fps = 30\n",
        "  args.flow_type = 'raft' # 'pwc' is not supported on Google Colab (cupy version mismatch)\n",
        "  # args.streams = 'flow'\n",
        "\n",
        "  # Load the model\n",
        "  extractor = ExtractI3D(args)\n",
        "else:\n",
        "  from torchvision.models import squeezenet1_1\n",
        "  from torchvision.models.feature_extraction import create_feature_extractor\n",
        "\n",
        "  model = squeezenet1_1(pretrained=True).to(device)\n",
        "  return_nodes = {\n",
        "        'features.12.cat': 'layer12'\n",
        "        }\n",
        "  pretrained_model = create_feature_extractor(model, return_nodes=return_nodes).to(device)\n",
        "  pretrained_model.eval()\n",
        "\n",
        "def frame_to_feats(pretrained_model, frames):\n",
        "  features = pretrained_model(frames.squeeze())['layer12'].to(device=device)\n",
        "  feat_shape = features.shape\n",
        "  feat_flat =  torch.reshape(features,(feat_shape[0],feat_shape[1]*feat_shape[2]*feat_shape[3])).to(device=device)\n",
        "  return feat_flat"
      ],
      "execution_count": 9,
      "outputs": [
        {
          "output_type": "stream",
          "name": "stdout",
          "text": [
            "Cloning into 'video_features'...\n",
            "remote: Enumerating objects: 1299, done.\u001b[K\n",
            "remote: Counting objects: 100% (420/420), done.\u001b[K\n",
            "remote: Compressing objects: 100% (189/189), done.\u001b[K\n",
            "remote: Total 1299 (delta 264), reused 322 (delta 215), pack-reused 879\u001b[K\n",
            "Receiving objects: 100% (1299/1299), 288.63 MiB | 17.19 MiB/s, done.\n",
            "Resolving deltas: 100% (671/671), done.\n",
            "Updating files: 100% (177/177), done.\n",
            "Looking in indexes: https://pypi.org/simple, https://us-python.pkg.dev/colab-wheels/public/simple/\n",
            "Collecting omegaconf==2.0.6\n",
            "  Downloading omegaconf-2.0.6-py3-none-any.whl (36 kB)\n",
            "Requirement already satisfied: PyYAML>=5.1.* in /usr/local/lib/python3.10/dist-packages (from omegaconf==2.0.6) (6.0)\n",
            "Requirement already satisfied: typing-extensions in /usr/local/lib/python3.10/dist-packages (from omegaconf==2.0.6) (4.5.0)\n",
            "Installing collected packages: omegaconf\n",
            "Successfully installed omegaconf-2.0.6\n",
            "/content/video_features\n"
          ]
        }
      ]
    },
    {
      "cell_type": "code",
      "execution_count": null,
      "metadata": {
        "id": "rqSoZ99aWFhj"
      },
      "outputs": [],
      "source": [
        "import gc\n",
        "\n",
        "# read cvs file\n",
        "# %cd $drive_folder\n",
        "sentences = pd.read_csv(train_csv_path)\n",
        "\n",
        "# generate (video file name, encoding list)\n",
        "# Good recommendation on not to iterate over DFs like this:\n",
        "# https://stackoverflow.com/questions/16476924/how-to-iterate-over-rows-in-a-dataframe-in-pandas\n",
        "# but it's not my case - I have fewer rows and one to many with videos.\n",
        "df = pd.DataFrame(columns=[\"id\", \"video_file\",\"encoding\"])\n",
        "\n",
        "for index, row in sentences.iterrows():\n",
        "    id = int(row[0])\n",
        "\n",
        "    if (id<360):\n",
        "      continue\n",
        "      \n",
        "    phrase = row[2].lower()\n",
        "\n",
        "    # there is a grouping of videos in production.\n",
        "    pre_folder = '/1-250/' if (id < 251) else '/'\n",
        "    \n",
        "    dir = video_folder+'/' + camera_source + pre_folder + str(id)\n",
        "    # iterate over video folders\n",
        "    fidx = 1\n",
        "\n",
        "    if str(device).startswith('cuda'):\n",
        "      torch.cuda.empty_cache()\n",
        "      \n",
        "\n",
        "    for filename in os.listdir(dir):\n",
        "        f = os.path.join(dir, filename)\n",
        "        # checking if it is a file\n",
        "        if os.path.isfile(f):\n",
        "            video_id = filename[:filename.rindex('.')]\n",
        "            print(id,f)\n",
        "            \n",
        "            try:\n",
        "              feat_dir = output_folder + '/' + str(id)\n",
        "              if feature_type == 'i3d':\n",
        "                # Tried to pass exact frames to the i3d extraction method but did not work:\n",
        "                # frames = get_video_frames(f)\n",
        "                # frame_list = tensor2list(frames.unsqueeze(1))\n",
        "                # print('Frames:',frames.shape)\n",
        "                # print('Frame list:',len(frame_list))\n",
        "                # feature_dict = extractor.run_on_a_stack(frame_list,64,InputPadder((1,3,224,244)))\n",
        "                feature_dict = extractor.extract(f)\n",
        "\n",
        "                f_num, f_size = feature_dict['rgb'].shape\n",
        "                REQ_FEATS = 5 # required number of features\n",
        "\n",
        "                # Keep only REQ_FEATS features from each and apply zero padding if there are less than REQ_FEATS features\n",
        "                feats_rgb = torch.from_numpy(feature_dict['rgb'])\n",
        "                feats_flow = torch.from_numpy(feature_dict['flow'])\n",
        "\n",
        "                # Trim extra features.\n",
        "                # Trim shall be applied on each, since we need to have equal number of RGB and FLOW features.\n",
        "                # Like for RGB and FLOW, 8 features each will make 16 features if we apply catenation first.\n",
        "                # If we trimming after that to keep 10 features, eight of them will be about RGB, two - FLOW.\n",
        "                if f_num > REQ_FEATS:\n",
        "                  feats_rgb  = feats_rgb[-(REQ_FEATS-f_num):,:]\n",
        "                  feats_flow = feats_flow[-(REQ_FEATS-f_num):,:]\n",
        "\n",
        "                # Concatenate the features\n",
        "                feats = torch.cat((feats_rgb,feats_flow),1)\n",
        "\n",
        "                # Apply zero padding if needed.\n",
        "                # Zero padding needs to be done after the catenation - zero features shall come at the end, not after each type (RGB and FLOW)\n",
        "                if f_num < REQ_FEATS:  \n",
        "                  padarr = torch.zeros((REQ_FEATS-f_num,f_size*2))\n",
        "                  feats = torch.cat((feats,padarr),0)\n",
        "              else:\n",
        "                frames = get_video_frames(f)\n",
        "                feats = frame_to_feats(pretrained_model,frames)\n",
        "                print('feat shape:',feats.shape)\n",
        "\n",
        "              # Save the features\n",
        "              os.makedirs(feat_dir, exist_ok = True)\n",
        "              torch.save(feats, os.path.join(feat_dir, str(fidx) + '.pt'))\n",
        "              \n",
        "              gc.collect()\n",
        "              fidx += 1\n",
        "            except Exception as exp:\n",
        "              print('There was an error: ',f,exp)\n",
        "              continue\n",
        "\n"
      ]
    }
  ],
  "metadata": {
    "colab": {
      "provenance": [],
      "machine_shape": "hm",
      "gpuType": "A100",
      "authorship_tag": "ABX9TyPtRokHjRusy8wgd2c1b98J",
      "include_colab_link": true
    },
    "kernelspec": {
      "display_name": "Python 3",
      "name": "python3"
    },
    "language_info": {
      "name": "python"
    },
    "accelerator": "GPU"
  },
  "nbformat": 4,
  "nbformat_minor": 0
}