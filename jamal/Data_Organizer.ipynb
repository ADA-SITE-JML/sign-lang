{
  "cells": [
    {
      "cell_type": "markdown",
      "metadata": {
        "id": "view-in-github",
        "colab_type": "text"
      },
      "source": [
        "<a href=\"https://colab.research.google.com/github/ADA-SITE-JML/sign-lang/blob/main/jamal/Data_Organizer.ipynb\" target=\"_parent\"><img src=\"https://colab.research.google.com/assets/colab-badge.svg\" alt=\"Open In Colab\"/></a>"
      ]
    },
    {
      "cell_type": "code",
      "execution_count": 1,
      "metadata": {
        "id": "AxryeFOdYfH2"
      },
      "outputs": [],
      "source": [
        "import os\n",
        "import pandas as pd \n",
        "import cv2\n",
        "import torch"
      ]
    },
    {
      "cell_type": "code",
      "execution_count": 2,
      "metadata": {
        "id": "tux5wxb9ZqY3"
      },
      "outputs": [],
      "source": [
        "import sys\n",
        "import subprocess\n",
        "\n",
        "def pip_install(package):\n",
        "  subprocess.check_call([sys.executable, '-m', 'pip', 'install',package])"
      ]
    },
    {
      "cell_type": "code",
      "execution_count": 3,
      "metadata": {
        "id": "-ZaVjZSHZnxC"
      },
      "outputs": [],
      "source": [
        "pip_install('mediapipe')\n",
        "\n",
        "pip_install('pytorchvideo')\n",
        "\n",
        "# https://github.com/jbohnslav/opencv_transforms\n",
        "#pip_install('opencv_transforms')"
      ]
    },
    {
      "cell_type": "code",
      "execution_count": 4,
      "metadata": {
        "colab": {
          "base_uri": "https://localhost:8080/"
        },
        "id": "mo8iytK8VPM9",
        "outputId": "8b5d0a08-eb66-41c2-ee90-98521bff428c"
      },
      "outputs": [
        {
          "output_type": "stream",
          "name": "stdout",
          "text": [
            "Mounted at /content/drive\n"
          ]
        }
      ],
      "source": [
        "drive_folder = 'drive/MyDrive/SLR/Data/'\n",
        "video_folder = drive_folder+'/Video'\n",
        "train_csv_path = drive_folder+'/sentences_all.csv'\n",
        "camera_source = 'Cam2' # Cam1 - side-top, Cam2 - front\n",
        "output_folder = drive_folder + 'jamal/Video_features'\n",
        "\n",
        "from google.colab import drive\n",
        "drive.mount('/content/drive')"
      ]
    },
    {
      "cell_type": "code",
      "execution_count": 5,
      "metadata": {
        "colab": {
          "base_uri": "https://localhost:8080/"
        },
        "id": "X_uyWHdVaq-3",
        "outputId": "d2c557c0-7f9a-4a0a-ff74-2550504c5d5c"
      },
      "outputs": [
        {
          "output_type": "stream",
          "name": "stdout",
          "text": [
            "Device: cuda:0\n"
          ]
        }
      ],
      "source": [
        "max_frames = 64\n",
        "\n",
        "device = 'cuda:0' if torch.cuda.is_available() else 'cpu'\n",
        "print('Device:',device)"
      ]
    },
    {
      "cell_type": "code",
      "execution_count": 6,
      "metadata": {
        "colab": {
          "base_uri": "https://localhost:8080/"
        },
        "id": "jym6x3q6ZQHY",
        "outputId": "6d629b18-7d99-43a2-f784-21c35c18f3fc"
      },
      "outputs": [
        {
          "output_type": "stream",
          "name": "stderr",
          "text": [
            "/usr/local/lib/python3.9/dist-packages/torchvision/transforms/_functional_video.py:6: UserWarning: The 'torchvision.transforms._functional_video' module is deprecated since 0.12 and will be removed in the future. Please use the 'torchvision.transforms.functional' module instead.\n",
            "  warnings.warn(\n",
            "/usr/local/lib/python3.9/dist-packages/torchvision/transforms/_transforms_video.py:22: UserWarning: The 'torchvision.transforms._transforms_video' module is deprecated since 0.12 and will be removed in the future. Please use the 'torchvision.transforms' module instead.\n",
            "  warnings.warn(\n"
          ]
        }
      ],
      "source": [
        "import mediapipe as mp\n",
        "import torchvision\n",
        "from torchvision import transforms\n",
        "\n",
        "from torchvision.transforms._transforms_video import (\n",
        "    CenterCropVideo,\n",
        "    NormalizeVideo\n",
        ")\n",
        "\n",
        "# keeps only informative frames\n",
        "def keep_frames_with_hands(video_data, crop_size: int = None,\n",
        "                           mp_min_detection_confidence: float = 0.7, mp_min_tracking_confidence: float = 0.8): # initially 0.5, 0.2 / 0.5 0.7\n",
        "    \n",
        "  mpHands = mp.solutions.hands\n",
        "  hands = mpHands.Hands(static_image_mode=True, max_num_hands=2,\n",
        "                        min_detection_confidence=mp_min_detection_confidence, min_tracking_confidence=mp_min_tracking_confidence)\n",
        "  \n",
        "  video_arr = torch.zeros((0, 3, 960, 1280)).to(device)\n",
        "  if crop_size:\n",
        "    video_arr = torch.zeros((0, 3, crop_size, crop_size)).to(device)\n",
        "    transform = Compose([\n",
        "      CenterCrop(crop_size),\n",
        "      ])\n",
        "\n",
        "  for frame in video_data:\n",
        "    hand_results = hands.process(frame.numpy())\n",
        "\n",
        "    if hand_results.multi_hand_landmarks != None:\n",
        "      if crop_size:\n",
        "        frame_ext = torch.unsqueeze(transform(frame.permute(2, 0, 1)), dim=0).to(device)\n",
        "      else:\n",
        "        frame_ext = torch.unsqueeze(frame.permute(2, 0, 1), dim=0).to(device)\n",
        "\n",
        "      video_arr = torch.cat((video_arr, frame_ext/255.0),0)\n",
        "\n",
        "  return video_arr"
      ]
    },
    {
      "cell_type": "code",
      "execution_count": 7,
      "metadata": {
        "id": "m9L5407saAS_"
      },
      "outputs": [],
      "source": [
        "from torchvision.transforms import (\n",
        "    Compose,\n",
        "    CenterCrop,\n",
        "    Resize\n",
        ")\n",
        "\n",
        "def apply_video_transforms(resize_size: int = 224):\n",
        "    video_transform = Compose([\n",
        "        Resize(size=(resize_size, resize_size)),\n",
        "        # UniformTemporalSubsample(25),\n",
        "        #ColorJitter(brightness=0.5, contrast=0.5),\n",
        "        # RandomShortSideScale(min_size=256, max_size=512),\n",
        "        #RandomHorizontalFlip(p=0.5),\n",
        "    ])\n",
        "    \n",
        "    return video_transform"
      ]
    },
    {
      "cell_type": "code",
      "execution_count": 8,
      "metadata": {
        "id": "9q71bwuHaGqv"
      },
      "outputs": [],
      "source": [
        "def get_video_frames(video_path):\n",
        "  reader, _, _ = torchvision.io.read_video(video_path, output_format=\"THWC\")\n",
        "  hands_only = keep_frames_with_hands(reader, crop_size=600).to(device) # initially: 960\n",
        "  \n",
        "  apply_trans = apply_video_transforms()\n",
        "  hands_only = apply_trans(hands_only)\n",
        "\n",
        "  n,l,w,h = hands_only.shape\n",
        "\n",
        "  # When frames are more than we need but not that much (just trim it from the start and end)\n",
        "  if (n > max_frames) and (n < 2*max_frames):\n",
        "    left = (n-max_frames)//2\n",
        "    hands_only_new = hands_only[left:(n-left-1),:,:,:]\n",
        "  # If we have much more frames than we need\n",
        "  elif (n > max_frames):\n",
        "    # Cut 5 frames from start/end and then skip every n-th\n",
        "    slice_step = ((n-10)//max_frames+1)\n",
        "    hands_only_new = hands_only[5:(n-5):slice_step,:,:,:]\n",
        "  else:\n",
        "    hands_only_new = hands_only\n",
        "\n",
        "  n = hands_only_new.shape[0]\n",
        "\n",
        "  # If we have less frames than we need\n",
        "  if (n < max_frames):\n",
        "    # Previous approach : fill with the zero matrix\n",
        "    # compliment_arr = torch.zeros(config.max_frames-n,l,w,h).to(config.device)\n",
        "    # New approach: fill with the last frames (usually 1)\n",
        "    compliment_arr = hands_only[-(max_frames-n):,:,:,:]\n",
        "    hands_only_new = torch.cat((hands_only_new,compliment_arr),0)\n",
        "\n",
        "    return hands_only_new"
      ]
    },
    {
      "cell_type": "code",
      "execution_count": 9,
      "metadata": {
        "colab": {
          "base_uri": "https://localhost:8080/"
        },
        "id": "Z7DOeJs_ckOq",
        "outputId": "8b3e64e8-9e47-4845-9151-2ff1d3acba6a"
      },
      "outputs": [
        {
          "output_type": "stream",
          "name": "stderr",
          "text": [
            "/usr/local/lib/python3.9/dist-packages/torchvision/models/_utils.py:208: UserWarning: The parameter 'pretrained' is deprecated since 0.13 and may be removed in the future, please use 'weights' instead.\n",
            "  warnings.warn(\n",
            "/usr/local/lib/python3.9/dist-packages/torchvision/models/_utils.py:223: UserWarning: Arguments other than a weight enum or `None` for 'weights' are deprecated since 0.13 and may be removed in the future. The current behavior is equivalent to passing `weights=SqueezeNet1_1_Weights.IMAGENET1K_V1`. You can also use `weights=SqueezeNet1_1_Weights.DEFAULT` to get the most up-to-date weights.\n",
            "  warnings.warn(msg)\n",
            "Downloading: \"https://download.pytorch.org/models/squeezenet1_1-b8a52dc0.pth\" to /root/.cache/torch/hub/checkpoints/squeezenet1_1-b8a52dc0.pth\n",
            "100%|██████████| 4.73M/4.73M [00:00<00:00, 40.9MB/s]\n"
          ]
        }
      ],
      "source": [
        "from torchvision.models import squeezenet1_1\n",
        "from torchvision.models.feature_extraction import create_feature_extractor\n",
        "\n",
        "model = squeezenet1_1(pretrained=True).to(device)\n",
        "return_nodes = {\n",
        "      'features.12.cat': 'layer12'\n",
        "      }\n",
        "pretrained_model = create_feature_extractor(model, return_nodes=return_nodes).to(device)\n",
        "pretrained_model.eval()\n",
        "\n",
        "def frame_to_feats(pretrained_model, frames):\n",
        "  features = pretrained_model(frames.squeeze())['layer12'].to(device=device)\n",
        "  feat_shape = features.shape\n",
        "  feat_flat =  torch.reshape(features,(feat_shape[0],feat_shape[1]*feat_shape[2]*feat_shape[3])).to(device=device)\n",
        "  return feat_flat"
      ]
    },
    {
      "cell_type": "code",
      "execution_count": null,
      "metadata": {
        "id": "rqSoZ99aWFhj"
      },
      "outputs": [],
      "source": [
        "import gc\n",
        "\n",
        "# read cvs file\n",
        "sentences = pd.read_csv(train_csv_path)\n",
        "\n",
        "# generate (video file name, encoding list)\n",
        "# Good recommendation on not to iterate over DFs like this:\n",
        "# https://stackoverflow.com/questions/16476924/how-to-iterate-over-rows-in-a-dataframe-in-pandas\n",
        "# but it's not my case - I have fewer rows and one to many with videos.\n",
        "df = pd.DataFrame(columns=[\"id\", \"video_file\",\"encoding\"])\n",
        "\n",
        "for index, row in sentences.iterrows():\n",
        "    id = int(row[0])\n",
        "    if (id<27):\n",
        "      continue\n",
        "      \n",
        "    phrase = row[2].lower()\n",
        "\n",
        "    # there is a grouping of videos in production.\n",
        "    pre_folder = '/1-250/' if (id < 251) else '/'\n",
        "    \n",
        "    dir = video_folder+'/' + camera_source + pre_folder + str(id)\n",
        "    # iterate over video folders\n",
        "    fidx = 1\n",
        "\n",
        "    if str(device).startswith('cuda'):\n",
        "      torch.cuda.empty_cache()\n",
        "      \n",
        "\n",
        "    for filename in os.listdir(dir):\n",
        "        f = os.path.join(dir, filename)\n",
        "        # checking if it is a file\n",
        "        if os.path.isfile(f):\n",
        "            video_id = filename[:filename.rindex('.')]\n",
        "            print(id,f)\n",
        "            \n",
        "            try:\n",
        "              feat_dir = output_folder + '/' + str(id)\n",
        "\n",
        "              frames = get_video_frames(f)\n",
        "              feats = frame_to_feats(pretrained_model,frames)\n",
        "              os.makedirs(feat_dir, exist_ok = True)\n",
        "              torch.save(feats, os.path.join(feat_dir, str(fidx) + '.pt'))\n",
        "              \n",
        "              gc.collect()\n",
        "              fidx += 1\n",
        "            except Exception as exp:\n",
        "              print('There was an error: ',f,exp)\n",
        "              continue\n",
        "\n"
      ]
    }
  ],
  "metadata": {
    "colab": {
      "provenance": [],
      "machine_shape": "hm",
      "gpuType": "A100",
      "authorship_tag": "ABX9TyPphT5NouBHixtqMnEj/VLy",
      "include_colab_link": true
    },
    "gpuClass": "standard",
    "kernelspec": {
      "display_name": "Python 3",
      "name": "python3"
    },
    "language_info": {
      "name": "python"
    },
    "accelerator": "GPU"
  },
  "nbformat": 4,
  "nbformat_minor": 0
}