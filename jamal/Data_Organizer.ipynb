{
  "nbformat": 4,
  "nbformat_minor": 0,
  "metadata": {
    "colab": {
      "provenance": [],
      "machine_shape": "hm",
      "gpuType": "A100",
      "authorship_tag": "ABX9TyMDEekIcvdim+q4wj4VPBEa",
      "include_colab_link": true
    },
    "kernelspec": {
      "name": "python3",
      "display_name": "Python 3"
    },
    "language_info": {
      "name": "python"
    },
    "accelerator": "GPU",
    "gpuClass": "standard"
  },
  "cells": [
    {
      "cell_type": "markdown",
      "metadata": {
        "id": "view-in-github",
        "colab_type": "text"
      },
      "source": [
        "<a href=\"https://colab.research.google.com/github/ADA-SITE-JML/sign-lang/blob/main/jamal/Data_Organizer.ipynb\" target=\"_parent\"><img src=\"https://colab.research.google.com/assets/colab-badge.svg\" alt=\"Open In Colab\"/></a>"
      ]
    },
    {
      "cell_type": "code",
      "source": [
        "import os\n",
        "import pandas as pd \n",
        "import cv2\n",
        "import torch"
      ],
      "metadata": {
        "id": "AxryeFOdYfH2"
      },
      "execution_count": 60,
      "outputs": []
    },
    {
      "cell_type": "code",
      "source": [
        "import sys\n",
        "import subprocess\n",
        "\n",
        "def pip_install(package):\n",
        "  subprocess.check_call([sys.executable, '-m', 'pip', 'install',package])"
      ],
      "metadata": {
        "id": "tux5wxb9ZqY3"
      },
      "execution_count": 61,
      "outputs": []
    },
    {
      "cell_type": "code",
      "source": [
        "pip_install('mediapipe')\n",
        "\n",
        "pip_install('pytorchvideo')\n",
        "\n",
        "# https://github.com/jbohnslav/opencv_transforms\n",
        "#pip_install('opencv_transforms')"
      ],
      "metadata": {
        "id": "-ZaVjZSHZnxC"
      },
      "execution_count": 62,
      "outputs": []
    },
    {
      "cell_type": "code",
      "execution_count": 63,
      "metadata": {
        "colab": {
          "base_uri": "https://localhost:8080/"
        },
        "id": "mo8iytK8VPM9",
        "outputId": "d268f1a5-d4d4-49e0-926e-2d051e3126b4"
      },
      "outputs": [
        {
          "output_type": "stream",
          "name": "stdout",
          "text": [
            "Drive already mounted at /content/drive; to attempt to forcibly remount, call drive.mount(\"/content/drive\", force_remount=True).\n"
          ]
        }
      ],
      "source": [
        "drive_folder = 'drive/MyDrive/SLR/Data/'\n",
        "video_folder = drive_folder+'/Video'\n",
        "train_csv_path = drive_folder+'/sentences_all.csv'\n",
        "camera_source = 'Cam2' # Cam1 - side-top, Cam2 - front\n",
        "output_folder = drive_folder + 'jamal/Video_features'\n",
        "\n",
        "from google.colab import drive\n",
        "drive.mount('/content/drive')"
      ]
    },
    {
      "cell_type": "code",
      "source": [
        "max_frames = 64\n",
        "\n",
        "device = 'cuda:0' if torch.cuda.is_available() else 'cpu'\n",
        "print('Device:',device)"
      ],
      "metadata": {
        "colab": {
          "base_uri": "https://localhost:8080/"
        },
        "id": "X_uyWHdVaq-3",
        "outputId": "1764d360-5543-4c4e-e5c1-ae859b698024"
      },
      "execution_count": 64,
      "outputs": [
        {
          "output_type": "stream",
          "name": "stdout",
          "text": [
            "Device: cuda:0\n"
          ]
        }
      ]
    },
    {
      "cell_type": "code",
      "source": [
        "import mediapipe as mp\n",
        "import torchvision\n",
        "from torchvision import transforms\n",
        "\n",
        "from torchvision.transforms._transforms_video import (\n",
        "    CenterCropVideo,\n",
        "    NormalizeVideo\n",
        ")\n",
        "\n",
        "# keeps only informative frames\n",
        "def keep_frames_with_hands(video_data, crop_size: int = None,\n",
        "                           mp_min_detection_confidence: float = 0.7, mp_min_tracking_confidence: float = 0.8): # initially 0.5, 0.2 / 0.5 0.7\n",
        "    \n",
        "  mpHands = mp.solutions.hands\n",
        "  hands = mpHands.Hands(static_image_mode=True, max_num_hands=2,\n",
        "                        min_detection_confidence=mp_min_detection_confidence, min_tracking_confidence=mp_min_tracking_confidence)\n",
        "  \n",
        "  video_arr = torch.zeros((0, 3, 960, 1280)).to(device)\n",
        "  if crop_size:\n",
        "    video_arr = torch.zeros((0, 3, crop_size, crop_size)).to(device)\n",
        "    transform = Compose([\n",
        "      CenterCrop(crop_size),\n",
        "      ])\n",
        "\n",
        "  for frame in video_data:\n",
        "    hand_results = hands.process(frame.numpy())\n",
        "\n",
        "    if hand_results.multi_hand_landmarks != None:\n",
        "      if crop_size:\n",
        "        frame_ext = torch.unsqueeze(transform(frame.permute(2, 0, 1)), dim=0).to(device)\n",
        "      else:\n",
        "        frame_ext = torch.unsqueeze(frame.permute(2, 0, 1), dim=0).to(device)\n",
        "\n",
        "      video_arr = torch.cat((video_arr, frame_ext/255.0),0)\n",
        "    \n",
        "  return video_arr"
      ],
      "metadata": {
        "id": "jym6x3q6ZQHY"
      },
      "execution_count": 65,
      "outputs": []
    },
    {
      "cell_type": "code",
      "source": [
        "def apply_video_transforms(resize_size: int = 224):\n",
        "    video_transform = Compose([\n",
        "        Resize(size=(resize_size, resize_size)),\n",
        "        # UniformTemporalSubsample(25),\n",
        "        #ColorJitter(brightness=0.5, contrast=0.5),\n",
        "        # RandomShortSideScale(min_size=256, max_size=512),\n",
        "        #RandomHorizontalFlip(p=0.5),\n",
        "    ])\n",
        "    \n",
        "    return video_transform"
      ],
      "metadata": {
        "id": "m9L5407saAS_"
      },
      "execution_count": 66,
      "outputs": []
    },
    {
      "cell_type": "code",
      "source": [
        "from pytorchvideo.transforms import (\n",
        "    ApplyTransformToKey,\n",
        "    Normalize,\n",
        "    RandomShortSideScale,\n",
        "    UniformTemporalSubsample,\n",
        "    Permute,   \n",
        ")\n",
        "\n",
        "from torchvision.transforms import (\n",
        "    Compose,\n",
        "    Lambda,\n",
        "    RandomCrop,\n",
        "    CenterCrop,\n",
        "    RandomAdjustSharpness,\n",
        "    Resize,\n",
        "    ColorJitter,\n",
        "    RandomHorizontalFlip\n",
        ")\n",
        "\n",
        "from torchvision.transforms._transforms_video import (\n",
        "    CenterCropVideo,\n",
        "    NormalizeVideo\n",
        ")"
      ],
      "metadata": {
        "id": "cx59NKVHisDX"
      },
      "execution_count": 67,
      "outputs": []
    },
    {
      "cell_type": "code",
      "source": [
        "def get_video_frames(video_path):\n",
        "  reader, _, _ = torchvision.io.read_video(video_path, output_format=\"THWC\")\n",
        "  hands_only = keep_frames_with_hands(reader, crop_size=600).to(device) # initially: 960\n",
        "  \n",
        "  apply_trans = apply_video_transforms()\n",
        "  hands_only = apply_trans(hands_only)\n",
        "\n",
        "  n,l,w,h = hands_only.shape\n",
        "\n",
        "  # When frames are more than we need but not that much (just trim it from the start and end)\n",
        "  if (n > max_frames) and (n < 2*max_frames):\n",
        "    left = (n-max_frames)//2\n",
        "    hands_only_new = hands_only[left:(n-left-1),:,:,:]\n",
        "  # If we have much more frames than we need\n",
        "  elif (n > max_frames):\n",
        "    # Cut 5 frames from start/end and then skip every n-th\n",
        "    slice_step = ((n-10)//max_frames+1)\n",
        "    hands_only_new = hands_only[5:(n-5):slice_step,:,:,:]\n",
        "  else:\n",
        "    hands_only_new = hands_only\n",
        "\n",
        "  n = hands_only_new.shape[0]\n",
        "\n",
        "  # If we have less frames than we need\n",
        "  if (n < max_frames):\n",
        "    # Previous approach : fill with the zero matrix\n",
        "    # compliment_arr = torch.zeros(config.max_frames-n,l,w,h).to(config.device)\n",
        "    # New approach: fill with the last frames (usually 1)\n",
        "    compliment_arr = hands_only[-(max_frames-n):,:,:,:]\n",
        "    hands_only_new = torch.cat((hands_only_new,compliment_arr),0)\n",
        "\n",
        "    return hands_only_new"
      ],
      "metadata": {
        "id": "9q71bwuHaGqv"
      },
      "execution_count": 68,
      "outputs": []
    },
    {
      "cell_type": "code",
      "source": [
        "from torchvision.models import squeezenet1_1\n",
        "from torchvision.models.feature_extraction import create_feature_extractor\n",
        "\n",
        "model = squeezenet1_1(pretrained=True).to(device)\n",
        "return_nodes = {\n",
        "      'features.12.cat': 'layer12'\n",
        "      }\n",
        "pretrained_model = create_feature_extractor(model, return_nodes=return_nodes).to(device)\n",
        "pretrained_model.eval()\n",
        "\n",
        "def frame_to_feats(pretrained_model, frames):\n",
        "  features = pretrained_model(frames.squeeze())['layer12'].to(device=device)\n",
        "  feat_shape = features.shape\n",
        "  feat_flat =  torch.reshape(features,(feat_shape[0],feat_shape[1]*feat_shape[2]*feat_shape[3])).to(device=device)\n",
        "  return feat_flat"
      ],
      "metadata": {
        "id": "Z7DOeJs_ckOq"
      },
      "execution_count": 69,
      "outputs": []
    },
    {
      "cell_type": "code",
      "source": [
        "# read cvs file\n",
        "sentences = pd.read_csv(train_csv_path)\n",
        "\n",
        "# generate (video file name, encoding list)\n",
        "# Good recommendation on not to iterate over DFs like this:\n",
        "# https://stackoverflow.com/questions/16476924/how-to-iterate-over-rows-in-a-dataframe-in-pandas\n",
        "# but it's not my case - I have fewer rows and one to many with videos.\n",
        "df = pd.DataFrame(columns=[\"id\", \"video_file\",\"encoding\"])\n",
        "\n",
        "for index, row in sentences.iterrows():\n",
        "    id = int(row[0])\n",
        "    phrase = row[2].lower()\n",
        "\n",
        "    # there is a grouping of videos in production.\n",
        "    pre_folder = '/1-250/' if (id < 251) else '/'\n",
        "    \n",
        "    dir = video_folder+'/' + camera_source + pre_folder + str(id)\n",
        "    # iterate over video folders\n",
        "    fidx = 1\n",
        "    for filename in os.listdir(dir):\n",
        "        f = os.path.join(dir, filename)\n",
        "        # checking if it is a file\n",
        "        if os.path.isfile(f):\n",
        "            video_id = filename[:filename.rindex('.')]\n",
        "            print(id,f)\n",
        "\n",
        "            try:\n",
        "              frames = get_video_frames(f)\n",
        "              feats = frame_to_feats(pretrained_model,frames)\n",
        "\n",
        "              feat_dir = output_folder + '/' + str(id)\n",
        "              os.makedirs(feat_dir, exist_ok = True)\n",
        "              torch.save(feats, os.path.join(feat_dir, str(fidx) + '.pt'))\n",
        "              fidx += 1\n",
        "            except Exception as exp:\n",
        "              print('There was an error: ',f,exp)\n",
        "              continue\n",
        "\n"
      ],
      "metadata": {
        "colab": {
          "base_uri": "https://localhost:8080/"
        },
        "id": "rqSoZ99aWFhj",
        "outputId": "2ebe859d-207a-4f52-c8f0-ba4476835a28"
      },
      "execution_count": null,
      "outputs": [
        {
          "output_type": "stream",
          "name": "stdout",
          "text": [
            "15 drive/MyDrive/SLR/Data//Video/Cam2/1-250/15/2022-05-21 16-08-49.mp4\n",
            "15 drive/MyDrive/SLR/Data//Video/Cam2/1-250/15/2022-05-21 16-09-02.mp4\n",
            "15 drive/MyDrive/SLR/Data//Video/Cam2/1-250/15/2022-05-24 15-59-34.mp4\n",
            "There was an error:  drive/MyDrive/SLR/Data//Video/Cam2/1-250/15/2022-05-24 15-59-34.mp4 'NoneType' object has no attribute 'squeeze'\n",
            "15 drive/MyDrive/SLR/Data//Video/Cam2/1-250/15/2022-05-24 15-59-42.mp4\n",
            "There was an error:  drive/MyDrive/SLR/Data//Video/Cam2/1-250/15/2022-05-24 15-59-42.mp4 'NoneType' object has no attribute 'squeeze'\n",
            "15 drive/MyDrive/SLR/Data//Video/Cam2/1-250/15/2022-05-24 16-39-16.mp4\n",
            "15 drive/MyDrive/SLR/Data//Video/Cam2/1-250/15/2022-05-25 13-29-27.mp4\n"
          ]
        }
      ]
    }
  ]
}