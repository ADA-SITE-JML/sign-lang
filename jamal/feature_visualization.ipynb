{
 "cells": [
  {
   "cell_type": "code",
   "execution_count": null,
   "metadata": {},
   "outputs": [],
   "source": [
    "# Source: https://github.com/bnsreenu/python_for_microscopists/blob/master/263_Object%20localization%20in%20images%E2%80%8B_using_GAP_layer/263_Object%20localization%20in%20images%E2%80%8B_using_GAP_layer.py\n",
    "import numpy as np\n",
    "import scipy   #to upscale the image\n",
    "import matplotlib.pyplot as plt\n",
    "import cv2     \n",
    "from tensorflow.keras.applications.resnet50 import ResNet50, preprocess_input, decode_predictions\n",
    "from keras.models import Model   \n",
    "from PIL import Image"
   ]
  },
  {
   "cell_type": "code",
   "execution_count": 1,
   "metadata": {},
   "outputs": [
    {
     "ename": "NameError",
     "evalue": "name 'ResNet50' is not defined",
     "output_type": "error",
     "traceback": [
      "\u001b[0;31m---------------------------------------------------------------------------\u001b[0m",
      "\u001b[0;31mNameError\u001b[0m                                 Traceback (most recent call last)",
      "\u001b[0;32m<ipython-input-1-dbb962c10340>\u001b[0m in \u001b[0;36m<module>\u001b[0;34m\u001b[0m\n\u001b[1;32m      1\u001b[0m \u001b[0;31m#Import the resnet50 model\u001b[0m\u001b[0;34m\u001b[0m\u001b[0;34m\u001b[0m\u001b[0;34m\u001b[0m\u001b[0m\n\u001b[0;32m----> 2\u001b[0;31m \u001b[0mmodel\u001b[0m \u001b[0;34m=\u001b[0m \u001b[0mResNet50\u001b[0m\u001b[0;34m(\u001b[0m\u001b[0mweights\u001b[0m\u001b[0;34m=\u001b[0m\u001b[0;34m'imagenet'\u001b[0m\u001b[0;34m)\u001b[0m\u001b[0;34m\u001b[0m\u001b[0;34m\u001b[0m\u001b[0m\n\u001b[0m\u001b[1;32m      3\u001b[0m \u001b[0mprint\u001b[0m\u001b[0;34m(\u001b[0m\u001b[0mmodel\u001b[0m\u001b[0;34m.\u001b[0m\u001b[0msummary\u001b[0m\u001b[0;34m(\u001b[0m\u001b[0;34m)\u001b[0m\u001b[0;34m)\u001b[0m \u001b[0;31m#Notice the Global Average Pooling layer at the last but one\u001b[0m\u001b[0;34m\u001b[0m\u001b[0;34m\u001b[0m\u001b[0m\n",
      "\u001b[0;31mNameError\u001b[0m: name 'ResNet50' is not defined"
     ]
    }
   ],
   "source": [
    "#Import the resnet50 model\n",
    "model = ResNet50(weights='imagenet')\n",
    "print(model.summary()) #Notice the Global Average Pooling layer at the last but one"
   ]
  },
  {
   "cell_type": "code",
   "execution_count": null,
   "metadata": {},
   "outputs": [],
   "source": [
    "# Get weights for the prediction layer (last layer)\n",
    "# We should see 2048 weights for each of the 1000 classes (2048,1000)\n",
    "last_layer_weights = model.layers[-1].get_weights()[0]  #Predictions layer\n",
    "\n",
    "#Output both predictions (last layer) and conv5_block3_add (just before final activation layer)\n",
    "ResNet_model = Model(inputs=model.input, outputs=(model.layers[-4].output, model.layers[-1].output)) "
   ]
  },
  {
   "cell_type": "code",
   "execution_count": null,
   "metadata": {},
   "outputs": [],
   "source": [
    "def get_heatmap(input_img):\n",
    "    img_tensor = np.expand_dims(input_img, axis=0)\n",
    "    preprocessed_img = preprocess_input(img_tensor)\n",
    "    \n",
    "    #Get the predictions and the output of last conv. layer. \n",
    "    last_conv_output, pred_vec = ResNet_model.predict(preprocessed_img)\n",
    "    #Last conv. output for the image\n",
    "    last_conv_output = np.squeeze(last_conv_output) #7x7x2048\n",
    "    #Prediction for the image\n",
    "    pred = np.argmax(pred_vec)\n",
    "    \n",
    "    decode_predictions(pred_vec, top=1)\n",
    "    \n",
    "    # spline interpolation to resize each filtered image to size of original image \n",
    "    h = int(img.shape[0]/last_conv_output.shape[0])\n",
    "    w = int(img.shape[1]/last_conv_output.shape[1])\n",
    "    upsampled_last_conv_output = scipy.ndimage.zoom(last_conv_output, (h, w, 1), order=1) # dim: 224 x 224 x 2048\n",
    "    \n",
    "    #Get the weights from the last layer for the prediction class\n",
    "    last_layer_weights_for_pred = last_layer_weights[:, pred] # dim: (2048,) \n",
    "    \n",
    "    #To generate the final heat map. \n",
    "    #Reshape the upsampled last conv. output to n x filters and multiply (dot product) \n",
    "    # with the last layer weigths for the prediction. \n",
    "    # Reshape back to the image size for easy overlay onto the original image. \n",
    "    heat_map = np.dot(upsampled_last_conv_output.reshape((224*224, 2048)), \n",
    "                  last_layer_weights_for_pred).reshape(224,224) # dim: 224 x 224\n",
    "    return heat_map"
   ]
  },
  {
   "cell_type": "code",
   "execution_count": null,
   "metadata": {},
   "outputs": [],
   "source": [
    "video_dir = '../../video/1/'\n",
    "fname = '2022-04-19 15-44-38.mp4'\n",
    "\n",
    "sample = cv2.VideoCapture(video_dir+fname)"
   ]
  },
  {
   "cell_type": "code",
   "execution_count": null,
   "metadata": {},
   "outputs": [],
   "source": [
    "skip_frames = 20\n",
    "i = 0\n",
    "\n",
    "def play_video_format(video_data):\n",
    "    # Read until video is completed\n",
    "    while(video_data.isOpened()):\n",
    "        # Capture frame-by-frame\n",
    "        ret, frame = video_data.read()\n",
    "        \n",
    "        # skip frames\n",
    "        if (i < skip_frames):\n",
    "            i += 1\n",
    "            continue\n",
    "        i = 0\n",
    "        img = Image.fromarray(img, 'RGB')\n",
    "        img = img.resize((224, 224))\n",
    "        img = np.array(img)\n",
    "        \n",
    "        if ret == True:\n",
    "            # Display the resulting frame\n",
    "            heap_map = get_heatmap(img)\n",
    "            fig, ax = plt.subplots()\n",
    "            ax.imshow(img)\n",
    "            ax.imshow(heat_map, cmap='jet', alpha=0.5)\n",
    "            plt.show()\n",
    "        # Break the loop\n",
    "        else:\n",
    "            break"
   ]
  },
  {
   "cell_type": "code",
   "execution_count": null,
   "metadata": {},
   "outputs": [],
   "source": [
    "play_video_format(sample)"
   ]
  },
  {
   "cell_type": "code",
   "execution_count": null,
   "metadata": {},
   "outputs": [],
   "source": []
  }
 ],
 "metadata": {
  "kernelspec": {
   "display_name": "Python 3",
   "language": "python",
   "name": "python3"
  },
  "language_info": {
   "codemirror_mode": {
    "name": "ipython",
    "version": 3
   },
   "file_extension": ".py",
   "mimetype": "text/x-python",
   "name": "python",
   "nbconvert_exporter": "python",
   "pygments_lexer": "ipython3",
   "version": "3.8.3"
  }
 },
 "nbformat": 4,
 "nbformat_minor": 4
}
