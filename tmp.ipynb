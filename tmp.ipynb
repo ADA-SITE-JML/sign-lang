{
 "cells": [
  {
   "cell_type": "code",
   "execution_count": 31,
   "metadata": {},
   "outputs": [],
   "source": [
    "import imp\n",
    "import os\n",
    "import cv2\n",
    "import pdb\n",
    "import glob\n",
    "import pandas as pd\n",
    "import numpy as np\n",
    "from tqdm import tqdm\n",
    "from multiprocessing import Pool\n",
    "import torch\n",
    "from torch import Tensor\n",
    "import torch.nn as nn\n",
    "import torch.nn.functional as F\n",
    "# from torch.nn.functional import InterpolationMode\n",
    "import torchvision.models as models"
   ]
  },
  {
   "cell_type": "code",
   "execution_count": 2,
   "metadata": {},
   "outputs": [],
   "source": [
    "gloss_df_path = \"data_validation/processed_gloss.csv\"\n",
    "gloss_df = pd.read_csv(gloss_df_path)\n",
    "gloss_df.dropna(inplace=True)"
   ]
  },
  {
   "cell_type": "code",
   "execution_count": 3,
   "metadata": {},
   "outputs": [
    {
     "data": {
      "text/html": [
       "<div>\n",
       "<style scoped>\n",
       "    .dataframe tbody tr th:only-of-type {\n",
       "        vertical-align: middle;\n",
       "    }\n",
       "\n",
       "    .dataframe tbody tr th {\n",
       "        vertical-align: top;\n",
       "    }\n",
       "\n",
       "    .dataframe thead th {\n",
       "        text-align: right;\n",
       "    }\n",
       "</style>\n",
       "<table border=\"1\" class=\"dataframe\">\n",
       "  <thead>\n",
       "    <tr style=\"text-align: right;\">\n",
       "      <th></th>\n",
       "      <th>gloss</th>\n",
       "      <th>glossStart</th>\n",
       "      <th>glossEnd</th>\n",
       "      <th>fileName</th>\n",
       "      <th>sentenceID</th>\n",
       "    </tr>\n",
       "  </thead>\n",
       "  <tbody>\n",
       "    <tr>\n",
       "      <th>0</th>\n",
       "      <td>MƏN</td>\n",
       "      <td>9.0</td>\n",
       "      <td>24.0</td>\n",
       "      <td>2022-07-18 16-41-51.mp4</td>\n",
       "      <td>70</td>\n",
       "    </tr>\n",
       "    <tr>\n",
       "      <th>1</th>\n",
       "      <td>EV</td>\n",
       "      <td>29.0</td>\n",
       "      <td>41.0</td>\n",
       "      <td>2022-07-18 16-41-51.mp4</td>\n",
       "      <td>70</td>\n",
       "    </tr>\n",
       "    <tr>\n",
       "      <th>2</th>\n",
       "      <td>YANMAQ</td>\n",
       "      <td>46.0</td>\n",
       "      <td>102.0</td>\n",
       "      <td>2022-07-18 16-41-51.mp4</td>\n",
       "      <td>70</td>\n",
       "    </tr>\n",
       "    <tr>\n",
       "      <th>3</th>\n",
       "      <td>EV</td>\n",
       "      <td>30.0</td>\n",
       "      <td>41.0</td>\n",
       "      <td>2022-07-20 14-09-03.mp4</td>\n",
       "      <td>70</td>\n",
       "    </tr>\n",
       "    <tr>\n",
       "      <th>4</th>\n",
       "      <td>YANMAQ</td>\n",
       "      <td>44.0</td>\n",
       "      <td>74.0</td>\n",
       "      <td>2022-07-20 14-09-03.mp4</td>\n",
       "      <td>70</td>\n",
       "    </tr>\n",
       "  </tbody>\n",
       "</table>\n",
       "</div>"
      ],
      "text/plain": [
       "    gloss  glossStart  glossEnd                 fileName  sentenceID\n",
       "0     MƏN         9.0      24.0  2022-07-18 16-41-51.mp4          70\n",
       "1      EV        29.0      41.0  2022-07-18 16-41-51.mp4          70\n",
       "2  YANMAQ        46.0     102.0  2022-07-18 16-41-51.mp4          70\n",
       "3      EV        30.0      41.0  2022-07-20 14-09-03.mp4          70\n",
       "4  YANMAQ        44.0      74.0  2022-07-20 14-09-03.mp4          70"
      ]
     },
     "execution_count": 3,
     "metadata": {},
     "output_type": "execute_result"
    }
   ],
   "source": [
    "gloss_df.head()"
   ]
  },
  {
   "cell_type": "code",
   "execution_count": 4,
   "metadata": {},
   "outputs": [],
   "source": [
    "def img_resize(img_path, dims=(256, 256)):\n",
    "    img = cv2.imread(img_path)\n",
    "    img = cv2.resize(img, dsize=dims)\n",
    "\n",
    "    return img"
   ]
  },
  {
   "cell_type": "code",
   "execution_count": 5,
   "metadata": {},
   "outputs": [
    {
     "data": {
      "text/html": [
       "<div>\n",
       "<style scoped>\n",
       "    .dataframe tbody tr th:only-of-type {\n",
       "        vertical-align: middle;\n",
       "    }\n",
       "\n",
       "    .dataframe tbody tr th {\n",
       "        vertical-align: top;\n",
       "    }\n",
       "\n",
       "    .dataframe thead th {\n",
       "        text-align: right;\n",
       "    }\n",
       "</style>\n",
       "<table border=\"1\" class=\"dataframe\">\n",
       "  <thead>\n",
       "    <tr style=\"text-align: right;\">\n",
       "      <th></th>\n",
       "      <th>gloss</th>\n",
       "      <th>glossStart</th>\n",
       "      <th>glossEnd</th>\n",
       "      <th>fileName</th>\n",
       "      <th>sentenceID</th>\n",
       "    </tr>\n",
       "  </thead>\n",
       "  <tbody>\n",
       "  </tbody>\n",
       "</table>\n",
       "</div>"
      ],
      "text/plain": [
       "Empty DataFrame\n",
       "Columns: [gloss, glossStart, glossEnd, fileName, sentenceID]\n",
       "Index: []"
      ]
     },
     "execution_count": 5,
     "metadata": {},
     "output_type": "execute_result"
    }
   ],
   "source": [
    "gloss_df[pd.isnull(gloss_df['glossStart'])]"
   ]
  },
  {
   "cell_type": "code",
   "execution_count": 6,
   "metadata": {},
   "outputs": [
    {
     "data": {
      "text/plain": [
       "234"
      ]
     },
     "execution_count": 6,
     "metadata": {},
     "output_type": "execute_result"
    }
   ],
   "source": [
    "num_classes = len(gloss_df.gloss.unique())\n",
    "num_classes"
   ]
  },
  {
   "cell_type": "code",
   "execution_count": 7,
   "metadata": {},
   "outputs": [],
   "source": [
    "from torchvision.models import resnet50, ResNet50_Weights"
   ]
  },
  {
   "cell_type": "code",
   "execution_count": 8,
   "metadata": {},
   "outputs": [],
   "source": [
    "weights = ResNet50_Weights.IMAGENET1K_V2\n",
    "model = resnet50(weights=weights)"
   ]
  },
  {
   "cell_type": "code",
   "execution_count": 9,
   "metadata": {},
   "outputs": [
    {
     "name": "stdout",
     "output_type": "stream",
     "text": [
      "conv1.weight: torch.Size([64, 3, 7, 7])\n",
      "bn1.weight: torch.Size([64])\n",
      "bn1.bias: torch.Size([64])\n",
      "layer1.0.conv1.weight: torch.Size([64, 64, 1, 1])\n",
      "layer1.0.bn1.weight: torch.Size([64])\n",
      "layer1.0.bn1.bias: torch.Size([64])\n",
      "layer1.0.conv2.weight: torch.Size([64, 64, 3, 3])\n",
      "layer1.0.bn2.weight: torch.Size([64])\n",
      "layer1.0.bn2.bias: torch.Size([64])\n",
      "layer1.0.conv3.weight: torch.Size([256, 64, 1, 1])\n",
      "layer1.0.bn3.weight: torch.Size([256])\n",
      "layer1.0.bn3.bias: torch.Size([256])\n",
      "layer1.0.downsample.0.weight: torch.Size([256, 64, 1, 1])\n",
      "layer1.0.downsample.1.weight: torch.Size([256])\n",
      "layer1.0.downsample.1.bias: torch.Size([256])\n",
      "layer1.1.conv1.weight: torch.Size([64, 256, 1, 1])\n",
      "layer1.1.bn1.weight: torch.Size([64])\n",
      "layer1.1.bn1.bias: torch.Size([64])\n",
      "layer1.1.conv2.weight: torch.Size([64, 64, 3, 3])\n",
      "layer1.1.bn2.weight: torch.Size([64])\n",
      "layer1.1.bn2.bias: torch.Size([64])\n",
      "layer1.1.conv3.weight: torch.Size([256, 64, 1, 1])\n",
      "layer1.1.bn3.weight: torch.Size([256])\n",
      "layer1.1.bn3.bias: torch.Size([256])\n",
      "layer1.2.conv1.weight: torch.Size([64, 256, 1, 1])\n",
      "layer1.2.bn1.weight: torch.Size([64])\n",
      "layer1.2.bn1.bias: torch.Size([64])\n",
      "layer1.2.conv2.weight: torch.Size([64, 64, 3, 3])\n",
      "layer1.2.bn2.weight: torch.Size([64])\n",
      "layer1.2.bn2.bias: torch.Size([64])\n",
      "layer1.2.conv3.weight: torch.Size([256, 64, 1, 1])\n",
      "layer1.2.bn3.weight: torch.Size([256])\n",
      "layer1.2.bn3.bias: torch.Size([256])\n",
      "layer2.0.conv1.weight: torch.Size([128, 256, 1, 1])\n",
      "layer2.0.bn1.weight: torch.Size([128])\n",
      "layer2.0.bn1.bias: torch.Size([128])\n",
      "layer2.0.conv2.weight: torch.Size([128, 128, 3, 3])\n",
      "layer2.0.bn2.weight: torch.Size([128])\n",
      "layer2.0.bn2.bias: torch.Size([128])\n",
      "layer2.0.conv3.weight: torch.Size([512, 128, 1, 1])\n",
      "layer2.0.bn3.weight: torch.Size([512])\n",
      "layer2.0.bn3.bias: torch.Size([512])\n",
      "layer2.0.downsample.0.weight: torch.Size([512, 256, 1, 1])\n",
      "layer2.0.downsample.1.weight: torch.Size([512])\n",
      "layer2.0.downsample.1.bias: torch.Size([512])\n",
      "layer2.1.conv1.weight: torch.Size([128, 512, 1, 1])\n",
      "layer2.1.bn1.weight: torch.Size([128])\n",
      "layer2.1.bn1.bias: torch.Size([128])\n",
      "layer2.1.conv2.weight: torch.Size([128, 128, 3, 3])\n",
      "layer2.1.bn2.weight: torch.Size([128])\n",
      "layer2.1.bn2.bias: torch.Size([128])\n",
      "layer2.1.conv3.weight: torch.Size([512, 128, 1, 1])\n",
      "layer2.1.bn3.weight: torch.Size([512])\n",
      "layer2.1.bn3.bias: torch.Size([512])\n",
      "layer2.2.conv1.weight: torch.Size([128, 512, 1, 1])\n",
      "layer2.2.bn1.weight: torch.Size([128])\n",
      "layer2.2.bn1.bias: torch.Size([128])\n",
      "layer2.2.conv2.weight: torch.Size([128, 128, 3, 3])\n",
      "layer2.2.bn2.weight: torch.Size([128])\n",
      "layer2.2.bn2.bias: torch.Size([128])\n",
      "layer2.2.conv3.weight: torch.Size([512, 128, 1, 1])\n",
      "layer2.2.bn3.weight: torch.Size([512])\n",
      "layer2.2.bn3.bias: torch.Size([512])\n",
      "layer2.3.conv1.weight: torch.Size([128, 512, 1, 1])\n",
      "layer2.3.bn1.weight: torch.Size([128])\n",
      "layer2.3.bn1.bias: torch.Size([128])\n",
      "layer2.3.conv2.weight: torch.Size([128, 128, 3, 3])\n",
      "layer2.3.bn2.weight: torch.Size([128])\n",
      "layer2.3.bn2.bias: torch.Size([128])\n",
      "layer2.3.conv3.weight: torch.Size([512, 128, 1, 1])\n",
      "layer2.3.bn3.weight: torch.Size([512])\n",
      "layer2.3.bn3.bias: torch.Size([512])\n",
      "layer3.0.conv1.weight: torch.Size([256, 512, 1, 1])\n",
      "layer3.0.bn1.weight: torch.Size([256])\n",
      "layer3.0.bn1.bias: torch.Size([256])\n",
      "layer3.0.conv2.weight: torch.Size([256, 256, 3, 3])\n",
      "layer3.0.bn2.weight: torch.Size([256])\n",
      "layer3.0.bn2.bias: torch.Size([256])\n",
      "layer3.0.conv3.weight: torch.Size([1024, 256, 1, 1])\n",
      "layer3.0.bn3.weight: torch.Size([1024])\n",
      "layer3.0.bn3.bias: torch.Size([1024])\n",
      "layer3.0.downsample.0.weight: torch.Size([1024, 512, 1, 1])\n",
      "layer3.0.downsample.1.weight: torch.Size([1024])\n",
      "layer3.0.downsample.1.bias: torch.Size([1024])\n",
      "layer3.1.conv1.weight: torch.Size([256, 1024, 1, 1])\n",
      "layer3.1.bn1.weight: torch.Size([256])\n",
      "layer3.1.bn1.bias: torch.Size([256])\n",
      "layer3.1.conv2.weight: torch.Size([256, 256, 3, 3])\n",
      "layer3.1.bn2.weight: torch.Size([256])\n",
      "layer3.1.bn2.bias: torch.Size([256])\n",
      "layer3.1.conv3.weight: torch.Size([1024, 256, 1, 1])\n",
      "layer3.1.bn3.weight: torch.Size([1024])\n",
      "layer3.1.bn3.bias: torch.Size([1024])\n",
      "layer3.2.conv1.weight: torch.Size([256, 1024, 1, 1])\n",
      "layer3.2.bn1.weight: torch.Size([256])\n",
      "layer3.2.bn1.bias: torch.Size([256])\n",
      "layer3.2.conv2.weight: torch.Size([256, 256, 3, 3])\n",
      "layer3.2.bn2.weight: torch.Size([256])\n",
      "layer3.2.bn2.bias: torch.Size([256])\n",
      "layer3.2.conv3.weight: torch.Size([1024, 256, 1, 1])\n",
      "layer3.2.bn3.weight: torch.Size([1024])\n",
      "layer3.2.bn3.bias: torch.Size([1024])\n",
      "layer3.3.conv1.weight: torch.Size([256, 1024, 1, 1])\n",
      "layer3.3.bn1.weight: torch.Size([256])\n",
      "layer3.3.bn1.bias: torch.Size([256])\n",
      "layer3.3.conv2.weight: torch.Size([256, 256, 3, 3])\n",
      "layer3.3.bn2.weight: torch.Size([256])\n",
      "layer3.3.bn2.bias: torch.Size([256])\n",
      "layer3.3.conv3.weight: torch.Size([1024, 256, 1, 1])\n",
      "layer3.3.bn3.weight: torch.Size([1024])\n",
      "layer3.3.bn3.bias: torch.Size([1024])\n",
      "layer3.4.conv1.weight: torch.Size([256, 1024, 1, 1])\n",
      "layer3.4.bn1.weight: torch.Size([256])\n",
      "layer3.4.bn1.bias: torch.Size([256])\n",
      "layer3.4.conv2.weight: torch.Size([256, 256, 3, 3])\n",
      "layer3.4.bn2.weight: torch.Size([256])\n",
      "layer3.4.bn2.bias: torch.Size([256])\n",
      "layer3.4.conv3.weight: torch.Size([1024, 256, 1, 1])\n",
      "layer3.4.bn3.weight: torch.Size([1024])\n",
      "layer3.4.bn3.bias: torch.Size([1024])\n",
      "layer3.5.conv1.weight: torch.Size([256, 1024, 1, 1])\n",
      "layer3.5.bn1.weight: torch.Size([256])\n",
      "layer3.5.bn1.bias: torch.Size([256])\n",
      "layer3.5.conv2.weight: torch.Size([256, 256, 3, 3])\n",
      "layer3.5.bn2.weight: torch.Size([256])\n",
      "layer3.5.bn2.bias: torch.Size([256])\n",
      "layer3.5.conv3.weight: torch.Size([1024, 256, 1, 1])\n",
      "layer3.5.bn3.weight: torch.Size([1024])\n",
      "layer3.5.bn3.bias: torch.Size([1024])\n",
      "layer4.0.conv1.weight: torch.Size([512, 1024, 1, 1])\n",
      "layer4.0.bn1.weight: torch.Size([512])\n",
      "layer4.0.bn1.bias: torch.Size([512])\n",
      "layer4.0.conv2.weight: torch.Size([512, 512, 3, 3])\n",
      "layer4.0.bn2.weight: torch.Size([512])\n",
      "layer4.0.bn2.bias: torch.Size([512])\n",
      "layer4.0.conv3.weight: torch.Size([2048, 512, 1, 1])\n",
      "layer4.0.bn3.weight: torch.Size([2048])\n",
      "layer4.0.bn3.bias: torch.Size([2048])\n",
      "layer4.0.downsample.0.weight: torch.Size([2048, 1024, 1, 1])\n",
      "layer4.0.downsample.1.weight: torch.Size([2048])\n",
      "layer4.0.downsample.1.bias: torch.Size([2048])\n",
      "layer4.1.conv1.weight: torch.Size([512, 2048, 1, 1])\n",
      "layer4.1.bn1.weight: torch.Size([512])\n",
      "layer4.1.bn1.bias: torch.Size([512])\n",
      "layer4.1.conv2.weight: torch.Size([512, 512, 3, 3])\n",
      "layer4.1.bn2.weight: torch.Size([512])\n",
      "layer4.1.bn2.bias: torch.Size([512])\n",
      "layer4.1.conv3.weight: torch.Size([2048, 512, 1, 1])\n",
      "layer4.1.bn3.weight: torch.Size([2048])\n",
      "layer4.1.bn3.bias: torch.Size([2048])\n",
      "layer4.2.conv1.weight: torch.Size([512, 2048, 1, 1])\n",
      "layer4.2.bn1.weight: torch.Size([512])\n",
      "layer4.2.bn1.bias: torch.Size([512])\n",
      "layer4.2.conv2.weight: torch.Size([512, 512, 3, 3])\n",
      "layer4.2.bn2.weight: torch.Size([512])\n",
      "layer4.2.bn2.bias: torch.Size([512])\n",
      "layer4.2.conv3.weight: torch.Size([2048, 512, 1, 1])\n",
      "layer4.2.bn3.weight: torch.Size([2048])\n",
      "layer4.2.bn3.bias: torch.Size([2048])\n",
      "fc.weight: torch.Size([1000, 2048])\n",
      "fc.bias: torch.Size([1000])\n"
     ]
    }
   ],
   "source": [
    "for name, para in model.named_parameters():\n",
    "    print('{}: {}'.format(name, para.shape))"
   ]
  },
  {
   "cell_type": "code",
   "execution_count": 10,
   "metadata": {},
   "outputs": [],
   "source": [
    "preprocess = weights.transforms()"
   ]
  },
  {
   "cell_type": "code",
   "execution_count": 11,
   "metadata": {},
   "outputs": [
    {
     "data": {
      "text/plain": [
       "ImageClassification(\n",
       "    crop_size=[224]\n",
       "    resize_size=[232]\n",
       "    mean=[0.485, 0.456, 0.406]\n",
       "    std=[0.229, 0.224, 0.225]\n",
       "    interpolation=InterpolationMode.BILINEAR\n",
       ")"
      ]
     },
     "execution_count": 11,
     "metadata": {},
     "output_type": "execute_result"
    }
   ],
   "source": [
    "preprocess"
   ]
  },
  {
   "cell_type": "code",
   "execution_count": 12,
   "metadata": {},
   "outputs": [],
   "source": [
    "import cv2\n",
    "import matplotlib.pyplot as plt\n",
    "import PIL"
   ]
  },
  {
   "cell_type": "code",
   "execution_count": 28,
   "metadata": {},
   "outputs": [],
   "source": [
    "froom typing import Optional, Tuple"
   ]
  },
  {
   "cell_type": "code",
   "execution_count": 32,
   "metadata": {},
   "outputs": [],
   "source": [
    "class ImageClassification(nn.Module):\n",
    "    def __init__(\n",
    "        self,\n",
    "        *,\n",
    "        crop_size: int,\n",
    "        resize_size: int = 256,\n",
    "        mean: Tuple[float, ...] = (0.485, 0.456, 0.406),\n",
    "        std: Tuple[float, ...] = (0.229, 0.224, 0.225),\n",
    "        # interpolation: InterpolationMode = InterpolationMode.BILINEAR,\n",
    "    ) -> None:\n",
    "        super().__init__()\n",
    "        self.crop_size = [crop_size]\n",
    "        self.resize_size = [resize_size]\n",
    "        self.mean = list(mean)\n",
    "        self.std = list(std)\n",
    "        # self.interpolation = interpolation\n",
    "\n",
    "    def forward(self, img: Tensor) -> Tensor:\n",
    "        img = F.resize(img, self.resize_size)\n",
    "        img = F.center_crop(img, self.crop_size)\n",
    "        if not isinstance(img, Tensor):\n",
    "            img = F.pil_to_tensor(img)\n",
    "        img = F.convert_image_dtype(img, torch.float)\n",
    "        # img = F.normalize(img, mean=self.mean, std=self.std)\n",
    "        return img\n",
    "\n",
    "    def __repr__(self) -> str:\n",
    "        format_string = self.__class__.__name__ + \"(\"\n",
    "        format_string += f\"\\n    crop_size={self.crop_size}\"\n",
    "        format_string += f\"\\n    resize_size={self.resize_size}\"\n",
    "        format_string += f\"\\n    mean={self.mean}\"\n",
    "        format_string += f\"\\n    std={self.std}\"\n",
    "        # format_string += f\"\\n    interpolation={self.interpolation}\"\n",
    "        format_string += \"\\n)\"\n",
    "        return format_string\n",
    "\n",
    "    def describe(self) -> str:\n",
    "        return (\n",
    "            \"Accepts ``PIL.Image``, batched ``(B, C, H, W)`` and single ``(C, H, W)`` image ``torch.Tensor`` objects. \"\n",
    "            f\"The images are resized to ``resize_size={self.resize_size}`` using ``interpolation={self.interpolation}``, \"\n",
    "            f\"followed by a central crop of ``crop_size={self.crop_size}``. Finally the values are first rescaled to \"\n",
    "            f\"``[0.0, 1.0]`` and then normalized using ``mean={self.mean}`` and ``std={self.std}``.\"\n",
    "        )\n"
   ]
  },
  {
   "cell_type": "code",
   "execution_count": 36,
   "metadata": {},
   "outputs": [],
   "source": [
    "from functools import partial\n",
    "transforms=partial(ImageClassification, crop_size=224, resize_size=232)"
   ]
  },
  {
   "cell_type": "code",
   "execution_count": 44,
   "metadata": {},
   "outputs": [
    {
     "name": "stderr",
     "output_type": "stream",
     "text": [
      "Clipping input data to the valid range for imshow with RGB data ([0..1] for floats or [0..255] for integers).\n"
     ]
    },
    {
     "data": {
      "text/plain": [
       "<matplotlib.image.AxesImage at 0x7f1f38badeb0>"
      ]
     },
     "execution_count": 44,
     "metadata": {},
     "output_type": "execute_result"
    },
    {
     "data": {
      "image/png": "[encoded data removed]",
      "text/plain": [
       "<Figure size 432x288 with 1 Axes>"
      ]
     },
     "metadata": {
      "needs_background": "light"
     },
     "output_type": "display_data"
    }
   ],
   "source": [
    "file_path = \"../data/cam2/1/2022-05-26 11-15-10.mp4\"\n",
    "\n",
    "cap = cv2.VideoCapture(file_path)\n",
    "cap.set(cv2.CAP_PROP_POS_FRAMES, 50)\n",
    "res, img = cap.read()\n",
    "img = cv2.cvtColor(img, cv2.COLOR_BGR2YCR_CB)\n",
    "img = PIL.Image.fromarray(img)\n",
    "img = preprocess(img)\n",
    "plt.imshow(img.permute(1, 2, 0))"
   ]
  },
  {
   "cell_type": "code",
   "execution_count": 14,
   "metadata": {},
   "outputs": [],
   "source": [
    "from modules.temp_conv import TemporalConv"
   ]
  },
  {
   "cell_type": "code",
   "execution_count": 15,
   "metadata": {},
   "outputs": [
    {
     "data": {
      "text/plain": [
       "device(type='cuda')"
      ]
     },
     "execution_count": 15,
     "metadata": {},
     "output_type": "execute_result"
    }
   ],
   "source": [
    "device = torch.device(\"cuda\") if torch.cuda.is_available() else torch.device(\"cpu\")\n",
    "device"
   ]
  },
  {
   "cell_type": "code",
   "execution_count": 17,
   "metadata": {},
   "outputs": [
    {
     "data": {
      "text/plain": [
       "ResNet(\n",
       "  (conv1): Conv2d(3, 64, kernel_size=(7, 7), stride=(2, 2), padding=(3, 3), bias=False)\n",
       "  (bn1): BatchNorm2d(64, eps=1e-05, momentum=0.1, affine=True, track_running_stats=True)\n",
       "  (relu): ReLU(inplace=True)\n",
       "  (maxpool): MaxPool2d(kernel_size=3, stride=2, padding=1, dilation=1, ceil_mode=False)\n",
       "  (layer1): Sequential(\n",
       "    (0): Bottleneck(\n",
       "      (conv1): Conv2d(64, 64, kernel_size=(1, 1), stride=(1, 1), bias=False)\n",
       "      (bn1): BatchNorm2d(64, eps=1e-05, momentum=0.1, affine=True, track_running_stats=True)\n",
       "      (conv2): Conv2d(64, 64, kernel_size=(3, 3), stride=(1, 1), padding=(1, 1), bias=False)\n",
       "      (bn2): BatchNorm2d(64, eps=1e-05, momentum=0.1, affine=True, track_running_stats=True)\n",
       "      (conv3): Conv2d(64, 256, kernel_size=(1, 1), stride=(1, 1), bias=False)\n",
       "      (bn3): BatchNorm2d(256, eps=1e-05, momentum=0.1, affine=True, track_running_stats=True)\n",
       "      (relu): ReLU(inplace=True)\n",
       "      (downsample): Sequential(\n",
       "        (0): Conv2d(64, 256, kernel_size=(1, 1), stride=(1, 1), bias=False)\n",
       "        (1): BatchNorm2d(256, eps=1e-05, momentum=0.1, affine=True, track_running_stats=True)\n",
       "      )\n",
       "    )\n",
       "    (1): Bottleneck(\n",
       "      (conv1): Conv2d(256, 64, kernel_size=(1, 1), stride=(1, 1), bias=False)\n",
       "      (bn1): BatchNorm2d(64, eps=1e-05, momentum=0.1, affine=True, track_running_stats=True)\n",
       "      (conv2): Conv2d(64, 64, kernel_size=(3, 3), stride=(1, 1), padding=(1, 1), bias=False)\n",
       "      (bn2): BatchNorm2d(64, eps=1e-05, momentum=0.1, affine=True, track_running_stats=True)\n",
       "      (conv3): Conv2d(64, 256, kernel_size=(1, 1), stride=(1, 1), bias=False)\n",
       "      (bn3): BatchNorm2d(256, eps=1e-05, momentum=0.1, affine=True, track_running_stats=True)\n",
       "      (relu): ReLU(inplace=True)\n",
       "    )\n",
       "    (2): Bottleneck(\n",
       "      (conv1): Conv2d(256, 64, kernel_size=(1, 1), stride=(1, 1), bias=False)\n",
       "      (bn1): BatchNorm2d(64, eps=1e-05, momentum=0.1, affine=True, track_running_stats=True)\n",
       "      (conv2): Conv2d(64, 64, kernel_size=(3, 3), stride=(1, 1), padding=(1, 1), bias=False)\n",
       "      (bn2): BatchNorm2d(64, eps=1e-05, momentum=0.1, affine=True, track_running_stats=True)\n",
       "      (conv3): Conv2d(64, 256, kernel_size=(1, 1), stride=(1, 1), bias=False)\n",
       "      (bn3): BatchNorm2d(256, eps=1e-05, momentum=0.1, affine=True, track_running_stats=True)\n",
       "      (relu): ReLU(inplace=True)\n",
       "    )\n",
       "  )\n",
       "  (layer2): Sequential(\n",
       "    (0): Bottleneck(\n",
       "      (conv1): Conv2d(256, 128, kernel_size=(1, 1), stride=(1, 1), bias=False)\n",
       "      (bn1): BatchNorm2d(128, eps=1e-05, momentum=0.1, affine=True, track_running_stats=True)\n",
       "      (conv2): Conv2d(128, 128, kernel_size=(3, 3), stride=(2, 2), padding=(1, 1), bias=False)\n",
       "      (bn2): BatchNorm2d(128, eps=1e-05, momentum=0.1, affine=True, track_running_stats=True)\n",
       "      (conv3): Conv2d(128, 512, kernel_size=(1, 1), stride=(1, 1), bias=False)\n",
       "      (bn3): BatchNorm2d(512, eps=1e-05, momentum=0.1, affine=True, track_running_stats=True)\n",
       "      (relu): ReLU(inplace=True)\n",
       "      (downsample): Sequential(\n",
       "        (0): Conv2d(256, 512, kernel_size=(1, 1), stride=(2, 2), bias=False)\n",
       "        (1): BatchNorm2d(512, eps=1e-05, momentum=0.1, affine=True, track_running_stats=True)\n",
       "      )\n",
       "    )\n",
       "    (1): Bottleneck(\n",
       "      (conv1): Conv2d(512, 128, kernel_size=(1, 1), stride=(1, 1), bias=False)\n",
       "      (bn1): BatchNorm2d(128, eps=1e-05, momentum=0.1, affine=True, track_running_stats=True)\n",
       "      (conv2): Conv2d(128, 128, kernel_size=(3, 3), stride=(1, 1), padding=(1, 1), bias=False)\n",
       "      (bn2): BatchNorm2d(128, eps=1e-05, momentum=0.1, affine=True, track_running_stats=True)\n",
       "      (conv3): Conv2d(128, 512, kernel_size=(1, 1), stride=(1, 1), bias=False)\n",
       "      (bn3): BatchNorm2d(512, eps=1e-05, momentum=0.1, affine=True, track_running_stats=True)\n",
       "      (relu): ReLU(inplace=True)\n",
       "    )\n",
       "    (2): Bottleneck(\n",
       "      (conv1): Conv2d(512, 128, kernel_size=(1, 1), stride=(1, 1), bias=False)\n",
       "      (bn1): BatchNorm2d(128, eps=1e-05, momentum=0.1, affine=True, track_running_stats=True)\n",
       "      (conv2): Conv2d(128, 128, kernel_size=(3, 3), stride=(1, 1), padding=(1, 1), bias=False)\n",
       "      (bn2): BatchNorm2d(128, eps=1e-05, momentum=0.1, affine=True, track_running_stats=True)\n",
       "      (conv3): Conv2d(128, 512, kernel_size=(1, 1), stride=(1, 1), bias=False)\n",
       "      (bn3): BatchNorm2d(512, eps=1e-05, momentum=0.1, affine=True, track_running_stats=True)\n",
       "      (relu): ReLU(inplace=True)\n",
       "    )\n",
       "    (3): Bottleneck(\n",
       "      (conv1): Conv2d(512, 128, kernel_size=(1, 1), stride=(1, 1), bias=False)\n",
       "      (bn1): BatchNorm2d(128, eps=1e-05, momentum=0.1, affine=True, track_running_stats=True)\n",
       "      (conv2): Conv2d(128, 128, kernel_size=(3, 3), stride=(1, 1), padding=(1, 1), bias=False)\n",
       "      (bn2): BatchNorm2d(128, eps=1e-05, momentum=0.1, affine=True, track_running_stats=True)\n",
       "      (conv3): Conv2d(128, 512, kernel_size=(1, 1), stride=(1, 1), bias=False)\n",
       "      (bn3): BatchNorm2d(512, eps=1e-05, momentum=0.1, affine=True, track_running_stats=True)\n",
       "      (relu): ReLU(inplace=True)\n",
       "    )\n",
       "  )\n",
       "  (layer3): Sequential(\n",
       "    (0): Bottleneck(\n",
       "      (conv1): Conv2d(512, 256, kernel_size=(1, 1), stride=(1, 1), bias=False)\n",
       "      (bn1): BatchNorm2d(256, eps=1e-05, momentum=0.1, affine=True, track_running_stats=True)\n",
       "      (conv2): Conv2d(256, 256, kernel_size=(3, 3), stride=(2, 2), padding=(1, 1), bias=False)\n",
       "      (bn2): BatchNorm2d(256, eps=1e-05, momentum=0.1, affine=True, track_running_stats=True)\n",
       "      (conv3): Conv2d(256, 1024, kernel_size=(1, 1), stride=(1, 1), bias=False)\n",
       "      (bn3): BatchNorm2d(1024, eps=1e-05, momentum=0.1, affine=True, track_running_stats=True)\n",
       "      (relu): ReLU(inplace=True)\n",
       "      (downsample): Sequential(\n",
       "        (0): Conv2d(512, 1024, kernel_size=(1, 1), stride=(2, 2), bias=False)\n",
       "        (1): BatchNorm2d(1024, eps=1e-05, momentum=0.1, affine=True, track_running_stats=True)\n",
       "      )\n",
       "    )\n",
       "    (1): Bottleneck(\n",
       "      (conv1): Conv2d(1024, 256, kernel_size=(1, 1), stride=(1, 1), bias=False)\n",
       "      (bn1): BatchNorm2d(256, eps=1e-05, momentum=0.1, affine=True, track_running_stats=True)\n",
       "      (conv2): Conv2d(256, 256, kernel_size=(3, 3), stride=(1, 1), padding=(1, 1), bias=False)\n",
       "      (bn2): BatchNorm2d(256, eps=1e-05, momentum=0.1, affine=True, track_running_stats=True)\n",
       "      (conv3): Conv2d(256, 1024, kernel_size=(1, 1), stride=(1, 1), bias=False)\n",
       "      (bn3): BatchNorm2d(1024, eps=1e-05, momentum=0.1, affine=True, track_running_stats=True)\n",
       "      (relu): ReLU(inplace=True)\n",
       "    )\n",
       "    (2): Bottleneck(\n",
       "      (conv1): Conv2d(1024, 256, kernel_size=(1, 1), stride=(1, 1), bias=False)\n",
       "      (bn1): BatchNorm2d(256, eps=1e-05, momentum=0.1, affine=True, track_running_stats=True)\n",
       "      (conv2): Conv2d(256, 256, kernel_size=(3, 3), stride=(1, 1), padding=(1, 1), bias=False)\n",
       "      (bn2): BatchNorm2d(256, eps=1e-05, momentum=0.1, affine=True, track_running_stats=True)\n",
       "      (conv3): Conv2d(256, 1024, kernel_size=(1, 1), stride=(1, 1), bias=False)\n",
       "      (bn3): BatchNorm2d(1024, eps=1e-05, momentum=0.1, affine=True, track_running_stats=True)\n",
       "      (relu): ReLU(inplace=True)\n",
       "    )\n",
       "    (3): Bottleneck(\n",
       "      (conv1): Conv2d(1024, 256, kernel_size=(1, 1), stride=(1, 1), bias=False)\n",
       "      (bn1): BatchNorm2d(256, eps=1e-05, momentum=0.1, affine=True, track_running_stats=True)\n",
       "      (conv2): Conv2d(256, 256, kernel_size=(3, 3), stride=(1, 1), padding=(1, 1), bias=False)\n",
       "      (bn2): BatchNorm2d(256, eps=1e-05, momentum=0.1, affine=True, track_running_stats=True)\n",
       "      (conv3): Conv2d(256, 1024, kernel_size=(1, 1), stride=(1, 1), bias=False)\n",
       "      (bn3): BatchNorm2d(1024, eps=1e-05, momentum=0.1, affine=True, track_running_stats=True)\n",
       "      (relu): ReLU(inplace=True)\n",
       "    )\n",
       "    (4): Bottleneck(\n",
       "      (conv1): Conv2d(1024, 256, kernel_size=(1, 1), stride=(1, 1), bias=False)\n",
       "      (bn1): BatchNorm2d(256, eps=1e-05, momentum=0.1, affine=True, track_running_stats=True)\n",
       "      (conv2): Conv2d(256, 256, kernel_size=(3, 3), stride=(1, 1), padding=(1, 1), bias=False)\n",
       "      (bn2): BatchNorm2d(256, eps=1e-05, momentum=0.1, affine=True, track_running_stats=True)\n",
       "      (conv3): Conv2d(256, 1024, kernel_size=(1, 1), stride=(1, 1), bias=False)\n",
       "      (bn3): BatchNorm2d(1024, eps=1e-05, momentum=0.1, affine=True, track_running_stats=True)\n",
       "      (relu): ReLU(inplace=True)\n",
       "    )\n",
       "    (5): Bottleneck(\n",
       "      (conv1): Conv2d(1024, 256, kernel_size=(1, 1), stride=(1, 1), bias=False)\n",
       "      (bn1): BatchNorm2d(256, eps=1e-05, momentum=0.1, affine=True, track_running_stats=True)\n",
       "      (conv2): Conv2d(256, 256, kernel_size=(3, 3), stride=(1, 1), padding=(1, 1), bias=False)\n",
       "      (bn2): BatchNorm2d(256, eps=1e-05, momentum=0.1, affine=True, track_running_stats=True)\n",
       "      (conv3): Conv2d(256, 1024, kernel_size=(1, 1), stride=(1, 1), bias=False)\n",
       "      (bn3): BatchNorm2d(1024, eps=1e-05, momentum=0.1, affine=True, track_running_stats=True)\n",
       "      (relu): ReLU(inplace=True)\n",
       "    )\n",
       "  )\n",
       "  (layer4): Sequential(\n",
       "    (0): Bottleneck(\n",
       "      (conv1): Conv2d(1024, 512, kernel_size=(1, 1), stride=(1, 1), bias=False)\n",
       "      (bn1): BatchNorm2d(512, eps=1e-05, momentum=0.1, affine=True, track_running_stats=True)\n",
       "      (conv2): Conv2d(512, 512, kernel_size=(3, 3), stride=(2, 2), padding=(1, 1), bias=False)\n",
       "      (bn2): BatchNorm2d(512, eps=1e-05, momentum=0.1, affine=True, track_running_stats=True)\n",
       "      (conv3): Conv2d(512, 2048, kernel_size=(1, 1), stride=(1, 1), bias=False)\n",
       "      (bn3): BatchNorm2d(2048, eps=1e-05, momentum=0.1, affine=True, track_running_stats=True)\n",
       "      (relu): ReLU(inplace=True)\n",
       "      (downsample): Sequential(\n",
       "        (0): Conv2d(1024, 2048, kernel_size=(1, 1), stride=(2, 2), bias=False)\n",
       "        (1): BatchNorm2d(2048, eps=1e-05, momentum=0.1, affine=True, track_running_stats=True)\n",
       "      )\n",
       "    )\n",
       "    (1): Bottleneck(\n",
       "      (conv1): Conv2d(2048, 512, kernel_size=(1, 1), stride=(1, 1), bias=False)\n",
       "      (bn1): BatchNorm2d(512, eps=1e-05, momentum=0.1, affine=True, track_running_stats=True)\n",
       "      (conv2): Conv2d(512, 512, kernel_size=(3, 3), stride=(1, 1), padding=(1, 1), bias=False)\n",
       "      (bn2): BatchNorm2d(512, eps=1e-05, momentum=0.1, affine=True, track_running_stats=True)\n",
       "      (conv3): Conv2d(512, 2048, kernel_size=(1, 1), stride=(1, 1), bias=False)\n",
       "      (bn3): BatchNorm2d(2048, eps=1e-05, momentum=0.1, affine=True, track_running_stats=True)\n",
       "      (relu): ReLU(inplace=True)\n",
       "    )\n",
       "    (2): Bottleneck(\n",
       "      (conv1): Conv2d(2048, 512, kernel_size=(1, 1), stride=(1, 1), bias=False)\n",
       "      (bn1): BatchNorm2d(512, eps=1e-05, momentum=0.1, affine=True, track_running_stats=True)\n",
       "      (conv2): Conv2d(512, 512, kernel_size=(3, 3), stride=(1, 1), padding=(1, 1), bias=False)\n",
       "      (bn2): BatchNorm2d(512, eps=1e-05, momentum=0.1, affine=True, track_running_stats=True)\n",
       "      (conv3): Conv2d(512, 2048, kernel_size=(1, 1), stride=(1, 1), bias=False)\n",
       "      (bn3): BatchNorm2d(2048, eps=1e-05, momentum=0.1, affine=True, track_running_stats=True)\n",
       "      (relu): ReLU(inplace=True)\n",
       "    )\n",
       "  )\n",
       "  (avgpool): AdaptiveAvgPool2d(output_size=(1, 1))\n",
       "  (fc): Linear(in_features=2048, out_features=1000, bias=True)\n",
       ")"
      ]
     },
     "execution_count": 17,
     "metadata": {},
     "output_type": "execute_result"
    }
   ],
   "source": [
    "model.eval().to(device)"
   ]
  },
  {
   "cell_type": "code",
   "execution_count": null,
   "metadata": {},
   "outputs": [],
   "source": []
  }
 ],
 "metadata": {
  "kernelspec": {
   "display_name": "Python 3.9.12 ('sign-lang')",
   "language": "python",
   "name": "python3"
  },
  "language_info": {
   "codemirror_mode": {
    "name": "ipython",
    "version": 3
   },
   "file_extension": ".py",
   "mimetype": "text/x-python",
   "name": "python",
   "nbconvert_exporter": "python",
   "pygments_lexer": "ipython3",
   "version": "3.9.12"
  },
  "orig_nbformat": 4,
  "vscode": {
   "interpreter": {
    "hash": "96a4e4d8fc4dcb6ce321df308d690f3398dc6d289b3efb6c91f90112c618c739"
   }
  }
 },
 "nbformat": 4,
 "nbformat_minor": 2
}
